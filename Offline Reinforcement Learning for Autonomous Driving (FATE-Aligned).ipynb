{
 "cells": [
  {
   "cell_type": "markdown",
   "id": "2200be3f-2302-4d6a-880b-0f36f0754835",
   "metadata": {},
   "source": [
    "# Offline Reinforcement Learning for Autonomous Driving (Waymo/CARLA Simulated Data)\n",
    "## Batch-Constrained Q-Learning with Fairness-aware Social Context Constraints\n",
    "\n",
    "\n",
    "### This simplified simulation demonstrates how to build an Offline RL pipeline for autonomous driving\n",
    "### policy learning using pre-recorded trajectories and fairness-inspired bias mitigation.\n",
    "### Includes a neural policy model trained using Scikit-learn on expert decisions.\n",
    "\n"
   ]
  },
  {
   "cell_type": "code",
   "execution_count": 1,
   "id": "0377b2db-804b-421a-ae84-14433ca7a198",
   "metadata": {},
   "outputs": [
    {
     "name": "stdout",
     "output_type": "stream",
     "text": [
      "Found existing installation: numpy 1.24.4\n",
      "Uninstalling numpy-1.24.4:\n",
      "  Successfully uninstalled numpy-1.24.4\n",
      "Found existing installation: pandas 2.0.3\n",
      "Uninstalling pandas-2.0.3:\n",
      "  Successfully uninstalled pandas-2.0.3\n",
      "Collecting numpy==1.24.4\n",
      "  Using cached numpy-1.24.4-cp311-cp311-macosx_11_0_arm64.whl.metadata (5.6 kB)\n",
      "Collecting pandas==2.0.3\n",
      "  Using cached pandas-2.0.3-cp311-cp311-macosx_11_0_arm64.whl.metadata (18 kB)\n",
      "Requirement already satisfied: python-dateutil>=2.8.2 in ./niov-labs/lib/python3.11/site-packages (from pandas==2.0.3) (2.9.0.post0)\n",
      "Requirement already satisfied: pytz>=2020.1 in ./niov-labs/lib/python3.11/site-packages (from pandas==2.0.3) (2025.1)\n",
      "Requirement already satisfied: tzdata>=2022.1 in ./niov-labs/lib/python3.11/site-packages (from pandas==2.0.3) (2025.1)\n",
      "Requirement already satisfied: six>=1.5 in ./niov-labs/lib/python3.11/site-packages (from python-dateutil>=2.8.2->pandas==2.0.3) (1.17.0)\n",
      "Using cached numpy-1.24.4-cp311-cp311-macosx_11_0_arm64.whl (13.8 MB)\n",
      "Using cached pandas-2.0.3-cp311-cp311-macosx_11_0_arm64.whl (10.7 MB)\n",
      "Installing collected packages: numpy, pandas\n",
      "\u001b[2K   \u001b[90m━━━━━━━━━━━━━━━━━━━━━━━━━━━━━━━━━━━━━━━━\u001b[0m \u001b[32m2/2\u001b[0m [pandas]2m1/2\u001b[0m [pandas]\n",
      "\u001b[31mERROR: pip's dependency resolver does not currently take into account all the packages that are installed. This behaviour is the source of the following dependency conflicts.\n",
      "langchain-community 0.3.25 requires numpy>=1.26.2; python_version < \"3.13\", but you have numpy 1.24.4 which is incompatible.\n",
      "tensorflow 2.19.0 requires numpy<2.2.0,>=1.26.0, but you have numpy 1.24.4 which is incompatible.\n",
      "tts 0.22.0 requires pandas<2.0,>=1.4, but you have pandas 2.0.3 which is incompatible.\u001b[0m\u001b[31m\n",
      "\u001b[0mSuccessfully installed numpy-1.24.4 pandas-2.0.3\n",
      "\n",
      "\u001b[1m[\u001b[0m\u001b[34;49mnotice\u001b[0m\u001b[1;39;49m]\u001b[0m\u001b[39;49m A new release of pip is available: \u001b[0m\u001b[31;49m25.1.1\u001b[0m\u001b[39;49m -> \u001b[0m\u001b[32;49m25.2\u001b[0m\n",
      "\u001b[1m[\u001b[0m\u001b[34;49mnotice\u001b[0m\u001b[1;39;49m]\u001b[0m\u001b[39;49m To update, run: \u001b[0m\u001b[32;49mpip install --upgrade pip\u001b[0m\n"
     ]
    }
   ],
   "source": [
    "!pip uninstall -y numpy pandas\n",
    "!pip install numpy==1.24.4 pandas==2.0.3\n"
   ]
  },
  {
   "cell_type": "code",
   "execution_count": 3,
   "id": "4a94af2e-40a5-4bd9-8677-ee010ad7f7b9",
   "metadata": {},
   "outputs": [
    {
     "name": "stdout",
     "output_type": "stream",
     "text": [
      "zsh:1: no matches found: d3rlpy[torch]\n",
      "Note: you may need to restart the kernel to use updated packages.\n"
     ]
    }
   ],
   "source": [
    "pip install d3rlpy[torch]\n"
   ]
  },
  {
   "cell_type": "code",
   "execution_count": 8,
   "id": "959dc129-f1e7-4c5e-a87e-c87ead433d09",
   "metadata": {},
   "outputs": [
    {
     "name": "stdout",
     "output_type": "stream",
     "text": [
      "\n",
      "[Policy Action Distribution]\n",
      "Maintain: 155 times (15.50%)\n",
      "Slow Down: 625 times (62.50%)\n",
      "Switch Lane: 220 times (22.00%)\n",
      "\n",
      "[Neural Policy Evaluation]\n",
      "[[  9  12   9]\n",
      " [  2 112   4]\n",
      " [ 17  21  14]]\n",
      "              precision    recall  f1-score   support\n",
      "\n",
      "           0       0.32      0.30      0.31        30\n",
      "           1       0.77      0.95      0.85       118\n",
      "           2       0.52      0.27      0.35        52\n",
      "\n",
      "    accuracy                           0.68       200\n",
      "   macro avg       0.54      0.51      0.51       200\n",
      "weighted avg       0.64      0.68      0.64       200\n",
      "\n",
      "\n",
      "[Sample Inference - Neural Policy]\n",
      "Decided action: Slow Down\n"
     ]
    },
    {
     "data": {
      "image/png": "[encoded data removed]",
      "text/plain": [
       "<Figure size 640x480 with 1 Axes>"
      ]
     },
     "metadata": {},
     "output_type": "display_data"
    }
   ],
   "source": [
    "# Offline Reinforcement Learning for Autonomous Driving (Waymo/CARLA Simulated Data)\n",
    "# Batch-Constrained Q-Learning with Fairness-aware Social Context Constraints\n",
    "\n",
    "\"\"\"\n",
    "This simplified simulation demonstrates how to build an Offline RL pipeline for autonomous driving\n",
    "policy learning using pre-recorded trajectories and fairness-inspired bias mitigation.\n",
    "Includes a neural policy model trained using Scikit-learn on expert decisions.\n",
    "\"\"\"\n",
    "\n",
    "import numpy as np\n",
    "import matplotlib.pyplot as plt\n",
    "from sklearn.preprocessing import MinMaxScaler\n",
    "from sklearn.neural_network import MLPClassifier\n",
    "from sklearn.model_selection import train_test_split\n",
    "from sklearn.metrics import classification_report, confusion_matrix\n",
    "\n",
    "# 1. Simulated Driving Dataset Generation (Placeholder for expert trajectories)\n",
    "def generate_driving_data(n_samples=1000, seq_len=5):\n",
    "    states, actions, rewards = [], [], []\n",
    "    np.random.seed(42)\n",
    "\n",
    "    for _ in range(n_samples):\n",
    "        traj = []\n",
    "        for _ in range(seq_len):\n",
    "            velocity = np.random.uniform(10, 30)\n",
    "            dist_to_obs = np.random.uniform(5, 100)\n",
    "            lane_offset = np.random.uniform(-3, 3)\n",
    "            pedestrian = np.random.uniform(0, 1)\n",
    "            traffic_light = np.random.choice([0, 1])\n",
    "            traj.append([velocity, dist_to_obs, lane_offset, pedestrian, traffic_light])\n",
    "\n",
    "        traj = np.array(traj)\n",
    "        avg_velocity = np.mean(traj[:, 0])\n",
    "        min_obs = np.min(traj[:, 1])\n",
    "        max_offset = np.max(np.abs(traj[:, 2]))\n",
    "        avg_ped = np.mean(traj[:, 3])\n",
    "        red_light_ratio = np.mean(traj[:, 4])\n",
    "\n",
    "        if min_obs < 10 or red_light_ratio > 0.5:\n",
    "            action = 1\n",
    "        elif max_offset > 2.5:\n",
    "            action = 2\n",
    "        else:\n",
    "            action = 0\n",
    "\n",
    "        reward = 1.0\n",
    "        if action == 1 and avg_ped > 0.5:\n",
    "            reward += 1.0\n",
    "        if action == 2 and max_offset > 2:\n",
    "            reward += 0.5\n",
    "        if action == 0 and min_obs > 20:\n",
    "            reward += 0.2\n",
    "\n",
    "        states.append(traj.flatten())\n",
    "        actions.append(action)\n",
    "        rewards.append(reward)\n",
    "\n",
    "    return np.array(states), np.array(actions), np.array(rewards)\n",
    "\n",
    "# 2. Fairness Analysis (Bias Check)\n",
    "def analyze_policy_bias(actions):\n",
    "    unique, counts = np.unique(actions, return_counts=True)\n",
    "    print(\"\\n[Policy Action Distribution]\")\n",
    "    for u, c in zip(unique, counts):\n",
    "        action_name = [\"Maintain\", \"Slow Down\", \"Switch Lane\"][u]\n",
    "        print(f\"{action_name}: {c} times ({100 * c / sum(counts):.2f}%)\")\n",
    "\n",
    "# 3. Train Neural Policy from Expert Data\n",
    "def train_neural_policy(states, actions):\n",
    "    X_train, X_test, y_train, y_test = train_test_split(states, actions, test_size=0.2, random_state=42)\n",
    "    clf = MLPClassifier(hidden_layer_sizes=(64, 32), max_iter=500, random_state=42)\n",
    "    clf.fit(X_train, y_train)\n",
    "    y_pred = clf.predict(X_test)\n",
    "    print(\"\\n[Neural Policy Evaluation]\")\n",
    "    print(confusion_matrix(y_test, y_pred))\n",
    "    print(classification_report(y_test, y_pred))\n",
    "    return clf\n",
    "\n",
    "# 4. Inference Simulator\n",
    "def simulate_decision(traj, model):\n",
    "    print(\"\\n[Sample Inference - Neural Policy]\")\n",
    "    flat_input = traj.flatten().reshape(1, -1)\n",
    "    action = model.predict(flat_input)[0]\n",
    "    print(\"Decided action:\", [\"Maintain\", \"Slow Down\", \"Switch Lane\"][action])\n",
    "\n",
    "# Run pipeline\n",
    "states, actions, rewards = generate_driving_data()\n",
    "analyze_policy_bias(actions)\n",
    "model = train_neural_policy(states, actions)\n",
    "simulate_decision(states[-1].reshape(5, 5), model)\n",
    "\n",
    "# Optional: visualize reward distribution\n",
    "plt.hist(rewards, bins=20, color=\"skyblue\")\n",
    "plt.title(\"Reward Distribution\")\n",
    "plt.xlabel(\"Reward\")\n",
    "plt.ylabel(\"Frequency\")\n",
    "plt.grid()\n",
    "plt.show()\n"
   ]
  },
  {
   "cell_type": "code",
   "execution_count": null,
   "id": "35e65702-0a0e-492c-a80f-09f01c75c6bd",
   "metadata": {},
   "outputs": [],
   "source": []
  }
 ],
 "metadata": {
  "kernelspec": {
   "display_name": "Python 3 (ipykernel)",
   "language": "python",
   "name": "python3"
  },
  "language_info": {
   "codemirror_mode": {
    "name": "ipython",
    "version": 3
   },
   "file_extension": ".py",
   "mimetype": "text/x-python",
   "name": "python",
   "nbconvert_exporter": "python",
   "pygments_lexer": "ipython3",
   "version": "3.11.11"
  }
 },
 "nbformat": 4,
 "nbformat_minor": 5
}
